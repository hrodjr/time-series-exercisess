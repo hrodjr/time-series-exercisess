{
 "cells": [
  {
   "cell_type": "code",
   "execution_count": 1,
   "id": "18f877c4",
   "metadata": {},
   "outputs": [],
   "source": [
    "import requests\n",
    "import pandas as pd"
   ]
  },
  {
   "cell_type": "markdown",
   "id": "c3020de7",
   "metadata": {},
   "source": [
    "##### 1. Using the code from the lesson as a guide and the REST API from https://python.zgulde.net/api/v1/items as we did in the lesson, create a dataframe named items that has all of the data for items."
   ]
  },
  {
   "cell_type": "code",
   "execution_count": 2,
   "id": "2ed1a090",
   "metadata": {},
   "outputs": [],
   "source": [
    "url = 'https://python.zgulde.net/api/v1/items'"
   ]
  },
  {
   "cell_type": "code",
   "execution_count": 3,
   "id": "dd22c860",
   "metadata": {},
   "outputs": [],
   "source": [
    "max_pages = 3\n",
    "target = 'items'"
   ]
  },
  {
   "cell_type": "code",
   "execution_count": 4,
   "id": "a641e902",
   "metadata": {},
   "outputs": [],
   "source": [
    "def create_payload_df(url, max_pages, target):\n",
    "    page_list = []\n",
    "    \n",
    "    for i in range(1, max_pages + 1):\n",
    "        response = requests.get(url + \"?page=\" + str(i))\n",
    "        data = response.json()\n",
    "        page_items = data['payload'][target]\n",
    "        page_list += page_items\n",
    "        \n",
    "    return pd.DataFrame(page_list)"
   ]
  },
  {
   "cell_type": "code",
   "execution_count": 5,
   "id": "1ed0fdab",
   "metadata": {},
   "outputs": [
    {
     "data": {
      "text/plain": [
       "(50, 6)"
      ]
     },
     "execution_count": 5,
     "metadata": {},
     "output_type": "execute_result"
    }
   ],
   "source": [
    "items = create_payload_df(url, max_pages, target)\n",
    "items.shape"
   ]
  },
  {
   "cell_type": "code",
   "execution_count": 6,
   "id": "0943f766",
   "metadata": {},
   "outputs": [
    {
     "name": "stdout",
     "output_type": "stream",
     "text": [
      "<class 'pandas.core.frame.DataFrame'>\n",
      "RangeIndex: 50 entries, 0 to 49\n",
      "Data columns (total 6 columns):\n",
      " #   Column      Non-Null Count  Dtype  \n",
      "---  ------      --------------  -----  \n",
      " 0   item_brand  50 non-null     object \n",
      " 1   item_id     50 non-null     int64  \n",
      " 2   item_name   50 non-null     object \n",
      " 3   item_price  50 non-null     float64\n",
      " 4   item_upc12  50 non-null     object \n",
      " 5   item_upc14  50 non-null     object \n",
      "dtypes: float64(1), int64(1), object(4)\n",
      "memory usage: 2.5+ KB\n"
     ]
    }
   ],
   "source": [
    "items.info()"
   ]
  },
  {
   "cell_type": "code",
   "execution_count": 7,
   "id": "d3f0e7b0",
   "metadata": {},
   "outputs": [
    {
     "data": {
      "text/html": [
       "<div>\n",
       "<style scoped>\n",
       "    .dataframe tbody tr th:only-of-type {\n",
       "        vertical-align: middle;\n",
       "    }\n",
       "\n",
       "    .dataframe tbody tr th {\n",
       "        vertical-align: top;\n",
       "    }\n",
       "\n",
       "    .dataframe thead th {\n",
       "        text-align: right;\n",
       "    }\n",
       "</style>\n",
       "<table border=\"1\" class=\"dataframe\">\n",
       "  <thead>\n",
       "    <tr style=\"text-align: right;\">\n",
       "      <th></th>\n",
       "      <th>item_brand</th>\n",
       "      <th>item_id</th>\n",
       "      <th>item_name</th>\n",
       "      <th>item_price</th>\n",
       "      <th>item_upc12</th>\n",
       "      <th>item_upc14</th>\n",
       "    </tr>\n",
       "  </thead>\n",
       "  <tbody>\n",
       "    <tr>\n",
       "      <th>0</th>\n",
       "      <td>Riceland</td>\n",
       "      <td>1</td>\n",
       "      <td>Riceland American Jazmine Rice</td>\n",
       "      <td>0.84</td>\n",
       "      <td>35200264013</td>\n",
       "      <td>35200264013</td>\n",
       "    </tr>\n",
       "  </tbody>\n",
       "</table>\n",
       "</div>"
      ],
      "text/plain": [
       "  item_brand  item_id                       item_name  item_price  \\\n",
       "0   Riceland        1  Riceland American Jazmine Rice        0.84   \n",
       "\n",
       "    item_upc12   item_upc14  \n",
       "0  35200264013  35200264013  "
      ]
     },
     "execution_count": 7,
     "metadata": {},
     "output_type": "execute_result"
    }
   ],
   "source": [
    "items.head(1)"
   ]
  },
  {
   "cell_type": "markdown",
   "id": "caef2371",
   "metadata": {},
   "source": [
    "##### 2. Do the same thing, but for stores (https://python.zgulde.net/api/v1/stores)"
   ]
  },
  {
   "cell_type": "code",
   "execution_count": 8,
   "id": "89d1e627",
   "metadata": {},
   "outputs": [],
   "source": [
    "url = 'https://python.zgulde.net/api/v1/stores'\n",
    "max_pages = 1\n",
    "target = 'stores'"
   ]
  },
  {
   "cell_type": "code",
   "execution_count": 9,
   "id": "79c456ff",
   "metadata": {},
   "outputs": [],
   "source": [
    "def create_payload_df(url, max_pages, target):\n",
    "    page_list = []\n",
    "    \n",
    "    for i in range(1, max_pages + 1):\n",
    "        response = requests.get(url + \"?page=\" + str(i))\n",
    "        data = response.json()\n",
    "        page_items = data['payload'][target]\n",
    "        page_list += page_items\n",
    "        \n",
    "    return pd.DataFrame(page_list)"
   ]
  },
  {
   "cell_type": "code",
   "execution_count": 10,
   "id": "a2b73066",
   "metadata": {},
   "outputs": [
    {
     "data": {
      "text/plain": [
       "(10, 5)"
      ]
     },
     "execution_count": 10,
     "metadata": {},
     "output_type": "execute_result"
    }
   ],
   "source": [
    "stores = create_payload_df(url, max_pages, target)\n",
    "stores.shape"
   ]
  },
  {
   "cell_type": "code",
   "execution_count": 11,
   "id": "3e70317a",
   "metadata": {},
   "outputs": [
    {
     "name": "stdout",
     "output_type": "stream",
     "text": [
      "<class 'pandas.core.frame.DataFrame'>\n",
      "RangeIndex: 10 entries, 0 to 9\n",
      "Data columns (total 5 columns):\n",
      " #   Column         Non-Null Count  Dtype \n",
      "---  ------         --------------  ----- \n",
      " 0   store_address  10 non-null     object\n",
      " 1   store_city     10 non-null     object\n",
      " 2   store_id       10 non-null     int64 \n",
      " 3   store_state    10 non-null     object\n",
      " 4   store_zipcode  10 non-null     object\n",
      "dtypes: int64(1), object(4)\n",
      "memory usage: 528.0+ bytes\n"
     ]
    }
   ],
   "source": [
    "stores.info()"
   ]
  },
  {
   "cell_type": "code",
   "execution_count": 12,
   "id": "14258a43",
   "metadata": {},
   "outputs": [
    {
     "data": {
      "text/html": [
       "<div>\n",
       "<style scoped>\n",
       "    .dataframe tbody tr th:only-of-type {\n",
       "        vertical-align: middle;\n",
       "    }\n",
       "\n",
       "    .dataframe tbody tr th {\n",
       "        vertical-align: top;\n",
       "    }\n",
       "\n",
       "    .dataframe thead th {\n",
       "        text-align: right;\n",
       "    }\n",
       "</style>\n",
       "<table border=\"1\" class=\"dataframe\">\n",
       "  <thead>\n",
       "    <tr style=\"text-align: right;\">\n",
       "      <th></th>\n",
       "      <th>store_address</th>\n",
       "      <th>store_city</th>\n",
       "      <th>store_id</th>\n",
       "      <th>store_state</th>\n",
       "      <th>store_zipcode</th>\n",
       "    </tr>\n",
       "  </thead>\n",
       "  <tbody>\n",
       "    <tr>\n",
       "      <th>0</th>\n",
       "      <td>12125 Alamo Ranch Pkwy</td>\n",
       "      <td>San Antonio</td>\n",
       "      <td>1</td>\n",
       "      <td>TX</td>\n",
       "      <td>78253</td>\n",
       "    </tr>\n",
       "  </tbody>\n",
       "</table>\n",
       "</div>"
      ],
      "text/plain": [
       "            store_address   store_city  store_id store_state store_zipcode\n",
       "0  12125 Alamo Ranch Pkwy  San Antonio         1          TX         78253"
      ]
     },
     "execution_count": 12,
     "metadata": {},
     "output_type": "execute_result"
    }
   ],
   "source": [
    "stores.head(1)"
   ]
  },
  {
   "cell_type": "markdown",
   "id": "e423efb7",
   "metadata": {},
   "source": [
    "##### 3. Extract the data for sales (https://python.zgulde.net/api/v1/sales). There are a lot of pages of data here, so your code will need to be a little more complex. Your code should continue fetching data from the next page until all of the data is extracted"
   ]
  },
  {
   "cell_type": "code",
   "execution_count": 13,
   "id": "26caef50",
   "metadata": {},
   "outputs": [],
   "source": [
    "url = 'https://python.zgulde.net/api/v1/sales'"
   ]
  },
  {
   "cell_type": "code",
   "execution_count": 14,
   "id": "daa0ff76",
   "metadata": {},
   "outputs": [],
   "source": [
    "max_pages = 183\n",
    "target = 'sales'"
   ]
  },
  {
   "cell_type": "code",
   "execution_count": 15,
   "id": "3d15aed9",
   "metadata": {},
   "outputs": [],
   "source": [
    "def create_payload_df(url, max_pages, target):\n",
    "    page_list = []\n",
    "    \n",
    "    for i in range(1, max_pages + 1):\n",
    "        response = requests.get(url + \"?page=\" + str(i))\n",
    "        data = response.json()\n",
    "        page_items = data['payload'][target]\n",
    "        page_list += page_items\n",
    "        \n",
    "    return pd.DataFrame(page_list)"
   ]
  },
  {
   "cell_type": "code",
   "execution_count": 16,
   "id": "f907e6c1",
   "metadata": {},
   "outputs": [
    {
     "data": {
      "text/plain": [
       "(913000, 5)"
      ]
     },
     "execution_count": 16,
     "metadata": {},
     "output_type": "execute_result"
    }
   ],
   "source": [
    "sales = create_payload_df(url, max_pages, target)\n",
    "sales.shape"
   ]
  },
  {
   "cell_type": "code",
   "execution_count": 17,
   "id": "4dbe41d5",
   "metadata": {},
   "outputs": [
    {
     "name": "stdout",
     "output_type": "stream",
     "text": [
      "<class 'pandas.core.frame.DataFrame'>\n",
      "RangeIndex: 913000 entries, 0 to 912999\n",
      "Data columns (total 5 columns):\n",
      " #   Column       Non-Null Count   Dtype  \n",
      "---  ------       --------------   -----  \n",
      " 0   item         913000 non-null  int64  \n",
      " 1   sale_amount  913000 non-null  float64\n",
      " 2   sale_date    913000 non-null  object \n",
      " 3   sale_id      913000 non-null  int64  \n",
      " 4   store        913000 non-null  int64  \n",
      "dtypes: float64(1), int64(3), object(1)\n",
      "memory usage: 34.8+ MB\n"
     ]
    }
   ],
   "source": [
    "sales.info()"
   ]
  },
  {
   "cell_type": "code",
   "execution_count": 18,
   "id": "a3461232",
   "metadata": {},
   "outputs": [
    {
     "data": {
      "text/html": [
       "<div>\n",
       "<style scoped>\n",
       "    .dataframe tbody tr th:only-of-type {\n",
       "        vertical-align: middle;\n",
       "    }\n",
       "\n",
       "    .dataframe tbody tr th {\n",
       "        vertical-align: top;\n",
       "    }\n",
       "\n",
       "    .dataframe thead th {\n",
       "        text-align: right;\n",
       "    }\n",
       "</style>\n",
       "<table border=\"1\" class=\"dataframe\">\n",
       "  <thead>\n",
       "    <tr style=\"text-align: right;\">\n",
       "      <th></th>\n",
       "      <th>item</th>\n",
       "      <th>sale_amount</th>\n",
       "      <th>sale_date</th>\n",
       "      <th>sale_id</th>\n",
       "      <th>store</th>\n",
       "    </tr>\n",
       "  </thead>\n",
       "  <tbody>\n",
       "    <tr>\n",
       "      <th>0</th>\n",
       "      <td>1</td>\n",
       "      <td>13.0</td>\n",
       "      <td>Tue, 01 Jan 2013 00:00:00 GMT</td>\n",
       "      <td>1</td>\n",
       "      <td>1</td>\n",
       "    </tr>\n",
       "  </tbody>\n",
       "</table>\n",
       "</div>"
      ],
      "text/plain": [
       "   item  sale_amount                      sale_date  sale_id  store\n",
       "0     1         13.0  Tue, 01 Jan 2013 00:00:00 GMT        1      1"
      ]
     },
     "execution_count": 18,
     "metadata": {},
     "output_type": "execute_result"
    }
   ],
   "source": [
    "sales.head(1)"
   ]
  },
  {
   "cell_type": "markdown",
   "id": "5d5e9fc3",
   "metadata": {},
   "source": [
    "##### 4. Save the data in your files to local csv files so that it will be faster to access in the future."
   ]
  },
  {
   "cell_type": "code",
   "execution_count": 19,
   "id": "83243560",
   "metadata": {},
   "outputs": [],
   "source": [
    "#moved to local drive due to git's size limit.\n",
    "sales.to_csv(r'/Users/hector/Documents/cached_csvs/sales.csv')\n",
    "items.to_csv(r'/Users/hector/Documents/cached_csvs/items.csv')\n",
    "stores.to_csv(r'/Users/hector/Documents/cached_csvs/stores.csv')"
   ]
  },
  {
   "cell_type": "markdown",
   "id": "cdff9e47",
   "metadata": {},
   "source": [
    "##### 5. Combine the data from your three separate dataframes into one large dataframe."
   ]
  },
  {
   "cell_type": "code",
   "execution_count": 20,
   "id": "0492149d-c8fa-4502-b77b-488f7acfc917",
   "metadata": {},
   "outputs": [
    {
     "data": {
      "text/plain": [
       "(913000, 10)"
      ]
     },
     "execution_count": 20,
     "metadata": {},
     "output_type": "execute_result"
    }
   ],
   "source": [
    "#first merge: sales to stores\n",
    "sales_to_stores = pd.merge(sales, stores, how='left', left_on='store', right_on='store_id')\n",
    "sales_to_stores.shape"
   ]
  },
  {
   "cell_type": "code",
   "execution_count": 21,
   "id": "322e93ce",
   "metadata": {},
   "outputs": [
    {
     "name": "stdout",
     "output_type": "stream",
     "text": [
      "<class 'pandas.core.frame.DataFrame'>\n",
      "Int64Index: 913000 entries, 0 to 912999\n",
      "Data columns (total 10 columns):\n",
      " #   Column         Non-Null Count   Dtype  \n",
      "---  ------         --------------   -----  \n",
      " 0   item           913000 non-null  int64  \n",
      " 1   sale_amount    913000 non-null  float64\n",
      " 2   sale_date      913000 non-null  object \n",
      " 3   sale_id        913000 non-null  int64  \n",
      " 4   store          913000 non-null  int64  \n",
      " 5   store_address  913000 non-null  object \n",
      " 6   store_city     913000 non-null  object \n",
      " 7   store_id       913000 non-null  int64  \n",
      " 8   store_state    913000 non-null  object \n",
      " 9   store_zipcode  913000 non-null  object \n",
      "dtypes: float64(1), int64(4), object(5)\n",
      "memory usage: 76.6+ MB\n"
     ]
    }
   ],
   "source": [
    "sales_to_stores.info()"
   ]
  },
  {
   "cell_type": "code",
   "execution_count": 22,
   "id": "0910a3e9-ae99-4432-9315-542377b5cd5c",
   "metadata": {},
   "outputs": [
    {
     "data": {
      "text/plain": [
       "(913000, 16)"
      ]
     },
     "execution_count": 22,
     "metadata": {},
     "output_type": "execute_result"
    }
   ],
   "source": [
    "#second merge\n",
    "total_sales = pd.merge(sales_to_stores, items, how='left', left_on='item', right_on='item_id')\n",
    "total_sales.shape"
   ]
  },
  {
   "cell_type": "code",
   "execution_count": 23,
   "id": "5f019e62",
   "metadata": {},
   "outputs": [
    {
     "name": "stdout",
     "output_type": "stream",
     "text": [
      "<class 'pandas.core.frame.DataFrame'>\n",
      "Int64Index: 913000 entries, 0 to 912999\n",
      "Data columns (total 16 columns):\n",
      " #   Column         Non-Null Count   Dtype  \n",
      "---  ------         --------------   -----  \n",
      " 0   item           913000 non-null  int64  \n",
      " 1   sale_amount    913000 non-null  float64\n",
      " 2   sale_date      913000 non-null  object \n",
      " 3   sale_id        913000 non-null  int64  \n",
      " 4   store          913000 non-null  int64  \n",
      " 5   store_address  913000 non-null  object \n",
      " 6   store_city     913000 non-null  object \n",
      " 7   store_id       913000 non-null  int64  \n",
      " 8   store_state    913000 non-null  object \n",
      " 9   store_zipcode  913000 non-null  object \n",
      " 10  item_brand     913000 non-null  object \n",
      " 11  item_id        913000 non-null  int64  \n",
      " 12  item_name      913000 non-null  object \n",
      " 13  item_price     913000 non-null  float64\n",
      " 14  item_upc12     913000 non-null  object \n",
      " 15  item_upc14     913000 non-null  object \n",
      "dtypes: float64(2), int64(5), object(9)\n",
      "memory usage: 118.4+ MB\n"
     ]
    }
   ],
   "source": [
    "total_sales.info()"
   ]
  },
  {
   "cell_type": "code",
   "execution_count": 24,
   "id": "9142a511",
   "metadata": {},
   "outputs": [],
   "source": [
    "total_sales.to_csv(r'/Users/hector/Documents/cached_csvs/total_sales.csv')"
   ]
  },
  {
   "cell_type": "markdown",
   "id": "e0dd523d",
   "metadata": {},
   "source": [
    "##### 6. Acquire the Open Power Systems Data for Germany, which has been rapidly expanding its renewable energy production in recent years. The data set includes country-wide totals of electricity consumption, wind power production, and solar power production for 2006-2017. You can get the data here: https://raw.githubusercontent.com/jenfly/opsd/master/opsd_germany_daily.csv"
   ]
  },
  {
   "cell_type": "code",
   "execution_count": 25,
   "id": "2fc79bd7",
   "metadata": {},
   "outputs": [
    {
     "data": {
      "text/html": [
       "<div>\n",
       "<style scoped>\n",
       "    .dataframe tbody tr th:only-of-type {\n",
       "        vertical-align: middle;\n",
       "    }\n",
       "\n",
       "    .dataframe tbody tr th {\n",
       "        vertical-align: top;\n",
       "    }\n",
       "\n",
       "    .dataframe thead th {\n",
       "        text-align: right;\n",
       "    }\n",
       "</style>\n",
       "<table border=\"1\" class=\"dataframe\">\n",
       "  <thead>\n",
       "    <tr style=\"text-align: right;\">\n",
       "      <th></th>\n",
       "      <th>Date</th>\n",
       "      <th>Consumption</th>\n",
       "      <th>Wind</th>\n",
       "      <th>Solar</th>\n",
       "      <th>Wind+Solar</th>\n",
       "    </tr>\n",
       "  </thead>\n",
       "  <tbody>\n",
       "    <tr>\n",
       "      <th>0</th>\n",
       "      <td>2006-01-01</td>\n",
       "      <td>1069.184</td>\n",
       "      <td>NaN</td>\n",
       "      <td>NaN</td>\n",
       "      <td>NaN</td>\n",
       "    </tr>\n",
       "    <tr>\n",
       "      <th>1</th>\n",
       "      <td>2006-01-02</td>\n",
       "      <td>1380.521</td>\n",
       "      <td>NaN</td>\n",
       "      <td>NaN</td>\n",
       "      <td>NaN</td>\n",
       "    </tr>\n",
       "    <tr>\n",
       "      <th>2</th>\n",
       "      <td>2006-01-03</td>\n",
       "      <td>1442.533</td>\n",
       "      <td>NaN</td>\n",
       "      <td>NaN</td>\n",
       "      <td>NaN</td>\n",
       "    </tr>\n",
       "    <tr>\n",
       "      <th>3</th>\n",
       "      <td>2006-01-04</td>\n",
       "      <td>1457.217</td>\n",
       "      <td>NaN</td>\n",
       "      <td>NaN</td>\n",
       "      <td>NaN</td>\n",
       "    </tr>\n",
       "    <tr>\n",
       "      <th>4</th>\n",
       "      <td>2006-01-05</td>\n",
       "      <td>1477.131</td>\n",
       "      <td>NaN</td>\n",
       "      <td>NaN</td>\n",
       "      <td>NaN</td>\n",
       "    </tr>\n",
       "  </tbody>\n",
       "</table>\n",
       "</div>"
      ],
      "text/plain": [
       "         Date  Consumption  Wind  Solar  Wind+Solar\n",
       "0  2006-01-01     1069.184   NaN    NaN         NaN\n",
       "1  2006-01-02     1380.521   NaN    NaN         NaN\n",
       "2  2006-01-03     1442.533   NaN    NaN         NaN\n",
       "3  2006-01-04     1457.217   NaN    NaN         NaN\n",
       "4  2006-01-05     1477.131   NaN    NaN         NaN"
      ]
     },
     "execution_count": 25,
     "metadata": {},
     "output_type": "execute_result"
    }
   ],
   "source": [
    "opsd = pd.read_csv('https://raw.githubusercontent.com/jenfly/opsd/master/opsd_germany_daily.csv')\n",
    "opsd.head()"
   ]
  },
  {
   "cell_type": "markdown",
   "id": "838dd52c",
   "metadata": {},
   "source": [
    "##### 7. Make sure all the work that you have done above is reproducible. That is, you should put the code above into separate functions in the acquire.py file and be able to re-run the functions and get the same data."
   ]
  }
 ],
 "metadata": {
  "kernelspec": {
   "display_name": "Python 3",
   "language": "python",
   "name": "python3"
  },
  "language_info": {
   "codemirror_mode": {
    "name": "ipython",
    "version": 3
   },
   "file_extension": ".py",
   "mimetype": "text/x-python",
   "name": "python",
   "nbconvert_exporter": "python",
   "pygments_lexer": "ipython3",
   "version": "3.8.8"
  },
  "toc": {
   "base_numbering": 1,
   "nav_menu": {},
   "number_sections": false,
   "sideBar": false,
   "skip_h1_title": false,
   "title_cell": "Table of Contents",
   "title_sidebar": "Contents",
   "toc_cell": false,
   "toc_position": {},
   "toc_section_display": false,
   "toc_window_display": false
  }
 },
 "nbformat": 4,
 "nbformat_minor": 5
}
