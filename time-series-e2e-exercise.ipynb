{
 "cells": [
  {
   "cell_type": "markdown",
   "id": "c12a44e1-e5ca-45e5-a2b6-feffe5dcdc85",
   "metadata": {},
   "source": [
    "### Imports"
   ]
  },
  {
   "cell_type": "code",
   "execution_count": 1,
   "id": "8ed947a8-32b3-41cf-8af1-e7a0da15a1fd",
   "metadata": {},
   "outputs": [],
   "source": [
    "import requests\n",
    "import pandas as pd"
   ]
  },
  {
   "cell_type": "code",
   "execution_count": 10,
   "id": "93587cdd-39a0-4298-a311-fbd601edf168",
   "metadata": {},
   "outputs": [
    {
     "data": {
      "text/html": [
       "<div>\n",
       "<style scoped>\n",
       "    .dataframe tbody tr th:only-of-type {\n",
       "        vertical-align: middle;\n",
       "    }\n",
       "\n",
       "    .dataframe tbody tr th {\n",
       "        vertical-align: top;\n",
       "    }\n",
       "\n",
       "    .dataframe thead th {\n",
       "        text-align: right;\n",
       "    }\n",
       "</style>\n",
       "<table border=\"1\" class=\"dataframe\">\n",
       "  <thead>\n",
       "    <tr style=\"text-align: right;\">\n",
       "      <th></th>\n",
       "      <th>dt</th>\n",
       "      <th>AverageTemperature</th>\n",
       "      <th>AverageTemperatureUncertainty</th>\n",
       "      <th>City</th>\n",
       "      <th>Country</th>\n",
       "      <th>Latitude</th>\n",
       "      <th>Longitude</th>\n",
       "    </tr>\n",
       "  </thead>\n",
       "  <tbody>\n",
       "    <tr>\n",
       "      <th>0</th>\n",
       "      <td>1743-11-01</td>\n",
       "      <td>6.068</td>\n",
       "      <td>1.737</td>\n",
       "      <td>Århus</td>\n",
       "      <td>Denmark</td>\n",
       "      <td>57.05N</td>\n",
       "      <td>10.33E</td>\n",
       "    </tr>\n",
       "    <tr>\n",
       "      <th>1</th>\n",
       "      <td>1743-12-01</td>\n",
       "      <td>NaN</td>\n",
       "      <td>NaN</td>\n",
       "      <td>Århus</td>\n",
       "      <td>Denmark</td>\n",
       "      <td>57.05N</td>\n",
       "      <td>10.33E</td>\n",
       "    </tr>\n",
       "  </tbody>\n",
       "</table>\n",
       "</div>"
      ],
      "text/plain": [
       "           dt  AverageTemperature  AverageTemperatureUncertainty   City  \\\n",
       "0  1743-11-01               6.068                          1.737  Århus   \n",
       "1  1743-12-01                 NaN                            NaN  Århus   \n",
       "\n",
       "   Country Latitude Longitude  \n",
       "0  Denmark   57.05N    10.33E  \n",
       "1  Denmark   57.05N    10.33E  "
      ]
     },
     "execution_count": 10,
     "metadata": {},
     "output_type": "execute_result"
    }
   ],
   "source": [
    "df = pd.read_csv('/Users/hector/codeup-data-science/time-series-exercisess/GlobalLandTemperaturesByCity.csv')\n",
    "df.head(2)"
   ]
  },
  {
   "cell_type": "code",
   "execution_count": 12,
   "id": "fa081c5e-046f-4340-a78d-8cff4159d2eb",
   "metadata": {},
   "outputs": [
    {
     "name": "stdout",
     "output_type": "stream",
     "text": [
      "<class 'pandas.core.frame.DataFrame'>\n",
      "RangeIndex: 8599212 entries, 0 to 8599211\n",
      "Data columns (total 7 columns):\n",
      " #   Column              Dtype  \n",
      "---  ------              -----  \n",
      " 0   date                object \n",
      " 1   avg_temp            float64\n",
      " 2   avgtemp_uncetainty  float64\n",
      " 3   city                object \n",
      " 4   country             object \n",
      " 5   latitude            object \n",
      " 6   longitude           object \n",
      "dtypes: float64(2), object(5)\n",
      "memory usage: 459.2+ MB\n"
     ]
    }
   ],
   "source": [
    "df.info()"
   ]
  },
  {
   "cell_type": "code",
   "execution_count": 13,
   "id": "93398ea7-b4c3-406b-8534-81f7b6a61cf7",
   "metadata": {},
   "outputs": [],
   "source": [
    "#change date from object to datetime"
   ]
  },
  {
   "cell_type": "code",
   "execution_count": 15,
   "id": "be18eeb6-e21c-49e5-8f1f-abf92b1f5f15",
   "metadata": {},
   "outputs": [
    {
     "data": {
      "text/html": [
       "<div>\n",
       "<style scoped>\n",
       "    .dataframe tbody tr th:only-of-type {\n",
       "        vertical-align: middle;\n",
       "    }\n",
       "\n",
       "    .dataframe tbody tr th {\n",
       "        vertical-align: top;\n",
       "    }\n",
       "\n",
       "    .dataframe thead th {\n",
       "        text-align: right;\n",
       "    }\n",
       "</style>\n",
       "<table border=\"1\" class=\"dataframe\">\n",
       "  <thead>\n",
       "    <tr style=\"text-align: right;\">\n",
       "      <th></th>\n",
       "      <th>count</th>\n",
       "      <th>mean</th>\n",
       "      <th>std</th>\n",
       "      <th>min</th>\n",
       "      <th>25%</th>\n",
       "      <th>50%</th>\n",
       "      <th>75%</th>\n",
       "      <th>max</th>\n",
       "    </tr>\n",
       "  </thead>\n",
       "  <tbody>\n",
       "    <tr>\n",
       "      <th>avg_temp</th>\n",
       "      <td>8235082.0</td>\n",
       "      <td>16.727433</td>\n",
       "      <td>10.353442</td>\n",
       "      <td>-42.704</td>\n",
       "      <td>10.299</td>\n",
       "      <td>18.831</td>\n",
       "      <td>25.210</td>\n",
       "      <td>39.651</td>\n",
       "    </tr>\n",
       "    <tr>\n",
       "      <th>avgtemp_uncetainty</th>\n",
       "      <td>8235082.0</td>\n",
       "      <td>1.028575</td>\n",
       "      <td>1.129733</td>\n",
       "      <td>0.034</td>\n",
       "      <td>0.337</td>\n",
       "      <td>0.591</td>\n",
       "      <td>1.349</td>\n",
       "      <td>15.396</td>\n",
       "    </tr>\n",
       "  </tbody>\n",
       "</table>\n",
       "</div>"
      ],
      "text/plain": [
       "                        count       mean        std     min     25%     50%  \\\n",
       "avg_temp            8235082.0  16.727433  10.353442 -42.704  10.299  18.831   \n",
       "avgtemp_uncetainty  8235082.0   1.028575   1.129733   0.034   0.337   0.591   \n",
       "\n",
       "                       75%     max  \n",
       "avg_temp            25.210  39.651  \n",
       "avgtemp_uncetainty   1.349  15.396  "
      ]
     },
     "execution_count": 15,
     "metadata": {},
     "output_type": "execute_result"
    }
   ],
   "source": [
    "df.describe().T"
   ]
  },
  {
   "cell_type": "code",
   "execution_count": 16,
   "id": "4eb7b524-ffe3-4fb8-a37f-613cc8fb5df6",
   "metadata": {},
   "outputs": [
    {
     "data": {
      "text/plain": [
       "date                       0\n",
       "avg_temp              364130\n",
       "avgtemp_uncetainty    364130\n",
       "city                       0\n",
       "country                    0\n",
       "latitude                   0\n",
       "longitude                  0\n",
       "dtype: int64"
      ]
     },
     "execution_count": 16,
     "metadata": {},
     "output_type": "execute_result"
    }
   ],
   "source": [
    "df.isnull().sum()"
   ]
  },
  {
   "cell_type": "code",
   "execution_count": 17,
   "id": "751df4d2-544d-4861-839e-219622c42cc1",
   "metadata": {},
   "outputs": [
    {
     "data": {
      "text/plain": [
       "(8599212, 7)"
      ]
     },
     "execution_count": 17,
     "metadata": {},
     "output_type": "execute_result"
    }
   ],
   "source": [
    "df.shape"
   ]
  },
  {
   "cell_type": "code",
   "execution_count": 20,
   "id": "0241fdc3-c612-45d5-b4ef-68ed41359356",
   "metadata": {},
   "outputs": [
    {
     "data": {
      "text/plain": [
       "Index(['date', 'avg_temp', 'avgtemp_uncetainty', 'city', 'country', 'latitude',\n",
       "       'longitude'],\n",
       "      dtype='object')"
      ]
     },
     "execution_count": 20,
     "metadata": {},
     "output_type": "execute_result"
    }
   ],
   "source": [
    "df.columns"
   ]
  },
  {
   "cell_type": "code",
   "execution_count": 32,
   "id": "ef999981-aa38-47b4-9de6-2713d98fd085",
   "metadata": {},
   "outputs": [
    {
     "data": {
      "text/plain": [
       "count     8599212\n",
       "unique        159\n",
       "top         India\n",
       "freq      1014906\n",
       "Name: country, dtype: object"
      ]
     },
     "execution_count": 32,
     "metadata": {},
     "output_type": "execute_result"
    }
   ],
   "source": [
    "df.country.describe()"
   ]
  },
  {
   "cell_type": "code",
   "execution_count": 38,
   "id": "7ebaedc0-6e35-4e74-b78f-2ccbc8516bbd",
   "metadata": {},
   "outputs": [
    {
     "data": {
      "text/plain": [
       "687289"
      ]
     },
     "execution_count": 38,
     "metadata": {},
     "output_type": "execute_result"
    }
   ],
   "source": [
    "df['country'].value_counts()['United States']"
   ]
  },
  {
   "cell_type": "code",
   "execution_count": 41,
   "id": "bbcc55f2-b1cc-4cae-85ed-bf134f26970a",
   "metadata": {},
   "outputs": [
    {
     "data": {
      "text/html": [
       "<div>\n",
       "<style scoped>\n",
       "    .dataframe tbody tr th:only-of-type {\n",
       "        vertical-align: middle;\n",
       "    }\n",
       "\n",
       "    .dataframe tbody tr th {\n",
       "        vertical-align: top;\n",
       "    }\n",
       "\n",
       "    .dataframe thead th {\n",
       "        text-align: right;\n",
       "    }\n",
       "</style>\n",
       "<table border=\"1\" class=\"dataframe\">\n",
       "  <thead>\n",
       "    <tr style=\"text-align: right;\">\n",
       "      <th></th>\n",
       "      <th>date</th>\n",
       "      <th>avg_temp</th>\n",
       "      <th>avgtemp_uncetainty</th>\n",
       "      <th>city</th>\n",
       "      <th>country</th>\n",
       "      <th>latitude</th>\n",
       "      <th>longitude</th>\n",
       "    </tr>\n",
       "  </thead>\n",
       "  <tbody>\n",
       "    <tr>\n",
       "      <th>47555</th>\n",
       "      <td>1820-01-01</td>\n",
       "      <td>2.101</td>\n",
       "      <td>3.217</td>\n",
       "      <td>Abilene</td>\n",
       "      <td>United States</td>\n",
       "      <td>32.95N</td>\n",
       "      <td>100.53W</td>\n",
       "    </tr>\n",
       "    <tr>\n",
       "      <th>47556</th>\n",
       "      <td>1820-02-01</td>\n",
       "      <td>6.926</td>\n",
       "      <td>2.853</td>\n",
       "      <td>Abilene</td>\n",
       "      <td>United States</td>\n",
       "      <td>32.95N</td>\n",
       "      <td>100.53W</td>\n",
       "    </tr>\n",
       "  </tbody>\n",
       "</table>\n",
       "</div>"
      ],
      "text/plain": [
       "             date  avg_temp  avgtemp_uncetainty     city        country  \\\n",
       "47555  1820-01-01     2.101               3.217  Abilene  United States   \n",
       "47556  1820-02-01     6.926               2.853  Abilene  United States   \n",
       "\n",
       "      latitude longitude  \n",
       "47555   32.95N   100.53W  \n",
       "47556   32.95N   100.53W  "
      ]
     },
     "execution_count": 41,
     "metadata": {},
     "output_type": "execute_result"
    }
   ],
   "source": [
    "#filtered country by United States\n",
    "df = df[df['country']=='United States']\n",
    "df.head(2)"
   ]
  },
  {
   "cell_type": "code",
   "execution_count": 43,
   "id": "2cd36f9f-ee51-44be-8fed-a56f899a4e07",
   "metadata": {},
   "outputs": [
    {
     "data": {
      "text/plain": [
       "Springfield         9545\n",
       "Columbus            6478\n",
       "Aurora              6101\n",
       "Arlington           5564\n",
       "Peoria              5384\n",
       "                    ... \n",
       "Sacramento          1977\n",
       "San Jose            1977\n",
       "Rancho Cucamonga    1977\n",
       "Oakland             1977\n",
       "Burbank             1977\n",
       "Name: city, Length: 248, dtype: int64"
      ]
     },
     "execution_count": 43,
     "metadata": {},
     "output_type": "execute_result"
    }
   ],
   "source": [
    "df.city.value_counts()"
   ]
  },
  {
   "cell_type": "code",
   "execution_count": 44,
   "id": "6970b375-2690-4b87-b2c3-b14ec39b8e19",
   "metadata": {},
   "outputs": [
    {
     "data": {
      "text/plain": [
       "count          687289\n",
       "unique            248\n",
       "top       Springfield\n",
       "freq             9545\n",
       "Name: city, dtype: object"
      ]
     },
     "execution_count": 44,
     "metadata": {},
     "output_type": "execute_result"
    }
   ],
   "source": [
    "df.city.describe()"
   ]
  },
  {
   "cell_type": "code",
   "execution_count": 50,
   "id": "f0935dd2-252d-4579-907d-8ea21c981e7d",
   "metadata": {},
   "outputs": [
    {
     "data": {
      "text/html": [
       "<div>\n",
       "<style scoped>\n",
       "    .dataframe tbody tr th:only-of-type {\n",
       "        vertical-align: middle;\n",
       "    }\n",
       "\n",
       "    .dataframe tbody tr th {\n",
       "        vertical-align: top;\n",
       "    }\n",
       "\n",
       "    .dataframe thead th {\n",
       "        text-align: right;\n",
       "    }\n",
       "</style>\n",
       "<table border=\"1\" class=\"dataframe\">\n",
       "  <thead>\n",
       "    <tr style=\"text-align: right;\">\n",
       "      <th></th>\n",
       "      <th>date</th>\n",
       "      <th>avg_temp</th>\n",
       "      <th>avgtemp_uncetainty</th>\n",
       "      <th>city</th>\n",
       "      <th>country</th>\n",
       "      <th>latitude</th>\n",
       "      <th>longitude</th>\n",
       "    </tr>\n",
       "  </thead>\n",
       "  <tbody>\n",
       "    <tr>\n",
       "      <th>7139118</th>\n",
       "      <td>1758-03-01</td>\n",
       "      <td>6.423</td>\n",
       "      <td>3.742</td>\n",
       "      <td>Springfield</td>\n",
       "      <td>United States</td>\n",
       "      <td>37.78N</td>\n",
       "      <td>93.56W</td>\n",
       "    </tr>\n",
       "    <tr>\n",
       "      <th>7139119</th>\n",
       "      <td>1758-04-01</td>\n",
       "      <td>12.140</td>\n",
       "      <td>5.432</td>\n",
       "      <td>Springfield</td>\n",
       "      <td>United States</td>\n",
       "      <td>37.78N</td>\n",
       "      <td>93.56W</td>\n",
       "    </tr>\n",
       "    <tr>\n",
       "      <th>7139120</th>\n",
       "      <td>1758-05-01</td>\n",
       "      <td>16.998</td>\n",
       "      <td>3.760</td>\n",
       "      <td>Springfield</td>\n",
       "      <td>United States</td>\n",
       "      <td>37.78N</td>\n",
       "      <td>93.56W</td>\n",
       "    </tr>\n",
       "    <tr>\n",
       "      <th>7139121</th>\n",
       "      <td>1758-06-01</td>\n",
       "      <td>22.852</td>\n",
       "      <td>3.519</td>\n",
       "      <td>Springfield</td>\n",
       "      <td>United States</td>\n",
       "      <td>37.78N</td>\n",
       "      <td>93.56W</td>\n",
       "    </tr>\n",
       "    <tr>\n",
       "      <th>7139122</th>\n",
       "      <td>1758-07-01</td>\n",
       "      <td>25.195</td>\n",
       "      <td>4.888</td>\n",
       "      <td>Springfield</td>\n",
       "      <td>United States</td>\n",
       "      <td>37.78N</td>\n",
       "      <td>93.56W</td>\n",
       "    </tr>\n",
       "  </tbody>\n",
       "</table>\n",
       "</div>"
      ],
      "text/plain": [
       "               date  avg_temp  avgtemp_uncetainty         city        country  \\\n",
       "7139118  1758-03-01     6.423               3.742  Springfield  United States   \n",
       "7139119  1758-04-01    12.140               5.432  Springfield  United States   \n",
       "7139120  1758-05-01    16.998               3.760  Springfield  United States   \n",
       "7139121  1758-06-01    22.852               3.519  Springfield  United States   \n",
       "7139122  1758-07-01    25.195               4.888  Springfield  United States   \n",
       "\n",
       "        latitude longitude  \n",
       "7139118   37.78N    93.56W  \n",
       "7139119   37.78N    93.56W  \n",
       "7139120   37.78N    93.56W  \n",
       "7139121   37.78N    93.56W  \n",
       "7139122   37.78N    93.56W  "
      ]
     },
     "execution_count": 50,
     "metadata": {},
     "output_type": "execute_result"
    }
   ],
   "source": [
    "df = df[df['city']=='Springfield']\n",
    "df.head()"
   ]
  },
  {
   "cell_type": "code",
   "execution_count": 46,
   "id": "c006dbe4-ef32-4cc4-aacf-0ebc28a66fe0",
   "metadata": {},
   "outputs": [
    {
     "data": {
      "text/plain": [
       "(9545, 7)"
      ]
     },
     "execution_count": 46,
     "metadata": {},
     "output_type": "execute_result"
    }
   ],
   "source": [
    "df.shape"
   ]
  },
  {
   "cell_type": "code",
   "execution_count": 47,
   "id": "1aa389d7-4897-43bd-8735-a5e87fe94cb9",
   "metadata": {},
   "outputs": [
    {
     "data": {
      "text/plain": [
       "date                    0\n",
       "avg_temp              398\n",
       "avgtemp_uncetainty    398\n",
       "city                    0\n",
       "country                 0\n",
       "latitude                0\n",
       "longitude               0\n",
       "dtype: int64"
      ]
     },
     "execution_count": 47,
     "metadata": {},
     "output_type": "execute_result"
    }
   ],
   "source": [
    "df.isnull().sum()"
   ]
  },
  {
   "cell_type": "code",
   "execution_count": 48,
   "id": "ef3fa391-7534-4aef-acf3-89b7e8a8ca67",
   "metadata": {},
   "outputs": [
    {
     "data": {
      "text/html": [
       "<div>\n",
       "<style scoped>\n",
       "    .dataframe tbody tr th:only-of-type {\n",
       "        vertical-align: middle;\n",
       "    }\n",
       "\n",
       "    .dataframe tbody tr th {\n",
       "        vertical-align: top;\n",
       "    }\n",
       "\n",
       "    .dataframe thead th {\n",
       "        text-align: right;\n",
       "    }\n",
       "</style>\n",
       "<table border=\"1\" class=\"dataframe\">\n",
       "  <thead>\n",
       "    <tr style=\"text-align: right;\">\n",
       "      <th></th>\n",
       "      <th>count</th>\n",
       "      <th>mean</th>\n",
       "      <th>std</th>\n",
       "      <th>min</th>\n",
       "      <th>25%</th>\n",
       "      <th>50%</th>\n",
       "      <th>75%</th>\n",
       "      <th>max</th>\n",
       "    </tr>\n",
       "  </thead>\n",
       "  <tbody>\n",
       "    <tr>\n",
       "      <th>avg_temp</th>\n",
       "      <td>9147.0</td>\n",
       "      <td>10.647931</td>\n",
       "      <td>9.918251</td>\n",
       "      <td>-11.487</td>\n",
       "      <td>1.904</td>\n",
       "      <td>11.500</td>\n",
       "      <td>19.4125</td>\n",
       "      <td>30.660</td>\n",
       "    </tr>\n",
       "    <tr>\n",
       "      <th>avgtemp_uncetainty</th>\n",
       "      <td>9147.0</td>\n",
       "      <td>1.329609</td>\n",
       "      <td>1.357864</td>\n",
       "      <td>0.060</td>\n",
       "      <td>0.303</td>\n",
       "      <td>0.639</td>\n",
       "      <td>2.1930</td>\n",
       "      <td>10.117</td>\n",
       "    </tr>\n",
       "  </tbody>\n",
       "</table>\n",
       "</div>"
      ],
      "text/plain": [
       "                     count       mean       std     min    25%     50%  \\\n",
       "avg_temp            9147.0  10.647931  9.918251 -11.487  1.904  11.500   \n",
       "avgtemp_uncetainty  9147.0   1.329609  1.357864   0.060  0.303   0.639   \n",
       "\n",
       "                        75%     max  \n",
       "avg_temp            19.4125  30.660  \n",
       "avgtemp_uncetainty   2.1930  10.117  "
      ]
     },
     "execution_count": 48,
     "metadata": {},
     "output_type": "execute_result"
    }
   ],
   "source": [
    "df.describe().T"
   ]
  },
  {
   "cell_type": "code",
   "execution_count": 49,
   "id": "9b134293-6b04-4677-86cd-b79bc4d4479a",
   "metadata": {},
   "outputs": [
    {
     "name": "stdout",
     "output_type": "stream",
     "text": [
      "<class 'pandas.core.frame.DataFrame'>\n",
      "Int64Index: 9545 entries, 7139118 to 7148662\n",
      "Data columns (total 7 columns):\n",
      " #   Column              Non-Null Count  Dtype  \n",
      "---  ------              --------------  -----  \n",
      " 0   date                9545 non-null   object \n",
      " 1   avg_temp            9147 non-null   float64\n",
      " 2   avgtemp_uncetainty  9147 non-null   float64\n",
      " 3   city                9545 non-null   object \n",
      " 4   country             9545 non-null   object \n",
      " 5   latitude            9545 non-null   object \n",
      " 6   longitude           9545 non-null   object \n",
      "dtypes: float64(2), object(5)\n",
      "memory usage: 596.6+ KB\n"
     ]
    }
   ],
   "source": [
    "df.info()"
   ]
  },
  {
   "cell_type": "markdown",
   "id": "4a43c2e6-0627-49f3-9a42-7dfef63b50be",
   "metadata": {},
   "source": [
    "### Takeaways for data prep\n",
    "1. fill nulls with averages since the amount fall just under 5% \n",
    "2. correct/convert temp values (temp values in celsius)\n",
    "3. remove characters from long/lat \n",
    "4. drop long/lat, city and country\n",
    "5. convert date to datetime\n",
    "6. set index\n",
    "7. rename columns date, springfield_avgtemp, springfield_avgtempuncertainty"
   ]
  },
  {
   "cell_type": "code",
   "execution_count": null,
   "id": "7278e49d-4456-41dc-b33e-a9760d6eaa1f",
   "metadata": {},
   "outputs": [],
   "source": []
  },
  {
   "cell_type": "code",
   "execution_count": null,
   "id": "283c6381-05d4-445f-b9f8-01fdd3060cc5",
   "metadata": {},
   "outputs": [],
   "source": []
  },
  {
   "cell_type": "code",
   "execution_count": null,
   "id": "d6694aa8-b35a-4d65-8780-c5177ee70338",
   "metadata": {},
   "outputs": [],
   "source": []
  },
  {
   "cell_type": "code",
   "execution_count": null,
   "id": "c0b6dfcf-bad7-498b-9374-07a97e59659c",
   "metadata": {},
   "outputs": [],
   "source": [
    "#possibly convert temps???? What are these temp measurements in? "
   ]
  }
 ],
 "metadata": {
  "kernelspec": {
   "display_name": "Python 3",
   "language": "python",
   "name": "python3"
  },
  "language_info": {
   "codemirror_mode": {
    "name": "ipython",
    "version": 3
   },
   "file_extension": ".py",
   "mimetype": "text/x-python",
   "name": "python",
   "nbconvert_exporter": "python",
   "pygments_lexer": "ipython3",
   "version": "3.8.8"
  }
 },
 "nbformat": 4,
 "nbformat_minor": 5
}
